{
  "cells": [
    {
      "cell_type": "markdown",
      "metadata": {
        "id": "SPeulvp-meob"
      },
      "source": [
        "**DEVOIR 1 - ÉTUDE EMPIRIQUE DU PROBLÈME DU SAC À DOS**"
      ]
    },
    {
      "cell_type": "markdown",
      "metadata": {
        "id": "f2Eeke4Z_EkW"
      },
      "source": [
        "**1. Information sur le groupe et le rapport**\n",
        "\n",
        "Numéro du Groupe: 1\\\\\n",
        "Nom des membres du groupe: Yasmine Zoubdi et Tyler\\\\\n",
        "Numéros d'étudiants des membres du groupe : 300170464 et 300169866\\\\"
      ]
    },
    {
      "cell_type": "markdown",
      "metadata": {
        "id": "Yq6OGiMX_da0"
      },
      "source": [
        "**2. Problème du Sac à dos (Knapsack)**\n",
        "\n",
        "Le problème que nous allons traiter aujourd'hui est le problème du sac à dos, qui consiste à choisir un sous-ensemble d'objets ayant des poids et des valeurs différents, de manière à maximiser la valeur totale des objets tout en respectant la contrainte de poids d'un sac à dos ayant une capacité limitée."
      ]
    },
    {
      "cell_type": "markdown",
      "metadata": {
        "id": "C8vwHE0G_iOG"
      },
      "source": [
        "**3. Ensemble de données**\n",
        "\n",
        "Les données que nous allons utiliser proviennent du site [Kaggle](https://www.kaggle.com/datasets/warcoder/knapsack-problem/data). Cet ensemble de données se compose de 5 colonnes et 10 000 lignes, où chaque ligne représente un problème de sac à dos distinct avec sa solution optimale."
      ]
    },
    {
      "cell_type": "markdown",
      "metadata": {
        "id": "1j9TZLjcgQir"
      },
      "source": [
        "**Importation des bibliothèques importantes**"
      ]
    },
    {
      "cell_type": "code",
      "execution_count": null,
      "metadata": {
        "id": "GmP1buROhaOx"
      },
      "outputs": [],
      "source": [
        "import pandas as pd\n",
        "import itertools\n",
        "import numpy as np"
      ]
    },
    {
      "cell_type": "markdown",
      "metadata": {
        "id": "wNJyoeCz00Kr"
      },
      "source": [
        "**Lire l'ensemble de données**"
      ]
    },
    {
      "cell_type": "code",
      "execution_count": null,
      "metadata": {
        "id": "BrhpM-HwhaOy"
      },
      "outputs": [],
      "source": [
        "url = \"https://raw.githubusercontent.com/Yasmine08POG/CSI4506_A1/main/knapsack_5_items.csv\"\n",
        "\n",
        "dataset = pd.read_csv(url)"
      ]
    },
    {
      "cell_type": "markdown",
      "metadata": {
        "id": "4Drc71BY2a7w"
      },
      "source": [
        "Regardons quelles sont les colonnes du dataset :"
      ]
    },
    {
      "cell_type": "code",
      "execution_count": null,
      "metadata": {
        "colab": {
          "base_uri": "https://localhost:8080/"
        },
        "id": "pGxZXmhNhaOz",
        "outputId": "bb55d56d-e3d4-4ee8-8106-92401b29d8bb"
      },
      "outputs": [
        {
          "data": {
            "text/plain": [
              "Index(['Weights', 'Prices', 'Capacity', 'Best picks', 'Best price'], dtype='object')"
            ]
          },
          "execution_count": 3,
          "metadata": {},
          "output_type": "execute_result"
        }
      ],
      "source": [
        "dataset.columns"
      ]
    },
    {
      "cell_type": "markdown",
      "metadata": {
        "id": "aNZaqcCT2w-T"
      },
      "source": [
        "Comme nous nous y attendions, nous avons des colonnes pour les poids, les coûts, la capacité, les meilleurs choix et le meilleur prix pour toutes les instances."
      ]
    },
    {
      "cell_type": "markdown",
      "metadata": {
        "id": "jkokOHRj2kgZ"
      },
      "source": [
        "Regardons les 10 premières entrées (rangées):"
      ]
    },
    {
      "cell_type": "code",
      "execution_count": null,
      "metadata": {
        "colab": {
          "base_uri": "https://localhost:8080/",
          "height": 363
        },
        "id": "0xqfPrBEhaOz",
        "outputId": "a7654263-c588-47cc-b6d2-c84990b25163"
      },
      "outputs": [
        {
          "data": {
            "text/html": [
              "\n",
              "  <div id=\"df-b6dd6f24-8c7d-4aa1-8271-8bb5e6ba4701\" class=\"colab-df-container\">\n",
              "    <div>\n",
              "<style scoped>\n",
              "    .dataframe tbody tr th:only-of-type {\n",
              "        vertical-align: middle;\n",
              "    }\n",
              "\n",
              "    .dataframe tbody tr th {\n",
              "        vertical-align: top;\n",
              "    }\n",
              "\n",
              "    .dataframe thead th {\n",
              "        text-align: right;\n",
              "    }\n",
              "</style>\n",
              "<table border=\"1\" class=\"dataframe\">\n",
              "  <thead>\n",
              "    <tr style=\"text-align: right;\">\n",
              "      <th></th>\n",
              "      <th>Weights</th>\n",
              "      <th>Prices</th>\n",
              "      <th>Capacity</th>\n",
              "      <th>Best picks</th>\n",
              "      <th>Best price</th>\n",
              "    </tr>\n",
              "  </thead>\n",
              "  <tbody>\n",
              "    <tr>\n",
              "      <th>0</th>\n",
              "      <td>[46 40 42 38 10]</td>\n",
              "      <td>[12 19 19 15  8]</td>\n",
              "      <td>40</td>\n",
              "      <td>[0. 1. 0. 0. 0.]</td>\n",
              "      <td>19.0</td>\n",
              "    </tr>\n",
              "    <tr>\n",
              "      <th>1</th>\n",
              "      <td>[11 31  4  6  7]</td>\n",
              "      <td>[ 2  8 18 16  3]</td>\n",
              "      <td>64</td>\n",
              "      <td>[1. 1. 1. 1. 1.]</td>\n",
              "      <td>47.0</td>\n",
              "    </tr>\n",
              "    <tr>\n",
              "      <th>2</th>\n",
              "      <td>[32 49 27 37 24]</td>\n",
              "      <td>[19 16 16  4  1]</td>\n",
              "      <td>87</td>\n",
              "      <td>[1. 0. 1. 0. 1.]</td>\n",
              "      <td>36.0</td>\n",
              "    </tr>\n",
              "    <tr>\n",
              "      <th>3</th>\n",
              "      <td>[20 35 22 23 16]</td>\n",
              "      <td>[19 17 19  9  1]</td>\n",
              "      <td>21</td>\n",
              "      <td>[1. 0. 0. 0. 0.]</td>\n",
              "      <td>19.0</td>\n",
              "    </tr>\n",
              "    <tr>\n",
              "      <th>4</th>\n",
              "      <td>[ 7 12 19 13 20]</td>\n",
              "      <td>[10 11 18 15  5]</td>\n",
              "      <td>50</td>\n",
              "      <td>[0. 1. 1. 1. 0.]</td>\n",
              "      <td>44.0</td>\n",
              "    </tr>\n",
              "    <tr>\n",
              "      <th>5</th>\n",
              "      <td>[27 10 25 25  7]</td>\n",
              "      <td>[13 19  7 16  3]</td>\n",
              "      <td>66</td>\n",
              "      <td>[1. 1. 0. 1. 0.]</td>\n",
              "      <td>48.0</td>\n",
              "    </tr>\n",
              "    <tr>\n",
              "      <th>6</th>\n",
              "      <td>[21  2 33 45 26]</td>\n",
              "      <td>[ 1 14 10  6 13]</td>\n",
              "      <td>80</td>\n",
              "      <td>[0. 1. 1. 0. 1.]</td>\n",
              "      <td>37.0</td>\n",
              "    </tr>\n",
              "    <tr>\n",
              "      <th>7</th>\n",
              "      <td>[37 27 39 14 25]</td>\n",
              "      <td>[18  7 15  4 13]</td>\n",
              "      <td>35</td>\n",
              "      <td>[0. 0. 0. 0. 1.]</td>\n",
              "      <td>13.0</td>\n",
              "    </tr>\n",
              "    <tr>\n",
              "      <th>8</th>\n",
              "      <td>[ 1 48  4 23 39]</td>\n",
              "      <td>[ 9  4 10 16 12]</td>\n",
              "      <td>51</td>\n",
              "      <td>[1. 0. 1. 1. 0.]</td>\n",
              "      <td>35.0</td>\n",
              "    </tr>\n",
              "    <tr>\n",
              "      <th>9</th>\n",
              "      <td>[ 4  3 22  9 32]</td>\n",
              "      <td>[14  6  3 17  8]</td>\n",
              "      <td>53</td>\n",
              "      <td>[1. 1. 0. 1. 1.]</td>\n",
              "      <td>45.0</td>\n",
              "    </tr>\n",
              "  </tbody>\n",
              "</table>\n",
              "</div>\n",
              "    <div class=\"colab-df-buttons\">\n",
              "\n",
              "  <div class=\"colab-df-container\">\n",
              "    <button class=\"colab-df-convert\" onclick=\"convertToInteractive('df-b6dd6f24-8c7d-4aa1-8271-8bb5e6ba4701')\"\n",
              "            title=\"Convert this dataframe to an interactive table.\"\n",
              "            style=\"display:none;\">\n",
              "\n",
              "  <svg xmlns=\"http://www.w3.org/2000/svg\" height=\"24px\" viewBox=\"0 -960 960 960\">\n",
              "    <path d=\"M120-120v-720h720v720H120Zm60-500h600v-160H180v160Zm220 220h160v-160H400v160Zm0 220h160v-160H400v160ZM180-400h160v-160H180v160Zm440 0h160v-160H620v160ZM180-180h160v-160H180v160Zm440 0h160v-160H620v160Z\"/>\n",
              "  </svg>\n",
              "    </button>\n",
              "\n",
              "  <style>\n",
              "    .colab-df-container {\n",
              "      display:flex;\n",
              "      gap: 12px;\n",
              "    }\n",
              "\n",
              "    .colab-df-convert {\n",
              "      background-color: #E8F0FE;\n",
              "      border: none;\n",
              "      border-radius: 50%;\n",
              "      cursor: pointer;\n",
              "      display: none;\n",
              "      fill: #1967D2;\n",
              "      height: 32px;\n",
              "      padding: 0 0 0 0;\n",
              "      width: 32px;\n",
              "    }\n",
              "\n",
              "    .colab-df-convert:hover {\n",
              "      background-color: #E2EBFA;\n",
              "      box-shadow: 0px 1px 2px rgba(60, 64, 67, 0.3), 0px 1px 3px 1px rgba(60, 64, 67, 0.15);\n",
              "      fill: #174EA6;\n",
              "    }\n",
              "\n",
              "    .colab-df-buttons div {\n",
              "      margin-bottom: 4px;\n",
              "    }\n",
              "\n",
              "    [theme=dark] .colab-df-convert {\n",
              "      background-color: #3B4455;\n",
              "      fill: #D2E3FC;\n",
              "    }\n",
              "\n",
              "    [theme=dark] .colab-df-convert:hover {\n",
              "      background-color: #434B5C;\n",
              "      box-shadow: 0px 1px 3px 1px rgba(0, 0, 0, 0.15);\n",
              "      filter: drop-shadow(0px 1px 2px rgba(0, 0, 0, 0.3));\n",
              "      fill: #FFFFFF;\n",
              "    }\n",
              "  </style>\n",
              "\n",
              "    <script>\n",
              "      const buttonEl =\n",
              "        document.querySelector('#df-b6dd6f24-8c7d-4aa1-8271-8bb5e6ba4701 button.colab-df-convert');\n",
              "      buttonEl.style.display =\n",
              "        google.colab.kernel.accessAllowed ? 'block' : 'none';\n",
              "\n",
              "      async function convertToInteractive(key) {\n",
              "        const element = document.querySelector('#df-b6dd6f24-8c7d-4aa1-8271-8bb5e6ba4701');\n",
              "        const dataTable =\n",
              "          await google.colab.kernel.invokeFunction('convertToInteractive',\n",
              "                                                    [key], {});\n",
              "        if (!dataTable) return;\n",
              "\n",
              "        const docLinkHtml = 'Like what you see? Visit the ' +\n",
              "          '<a target=\"_blank\" href=https://colab.research.google.com/notebooks/data_table.ipynb>data table notebook</a>'\n",
              "          + ' to learn more about interactive tables.';\n",
              "        element.innerHTML = '';\n",
              "        dataTable['output_type'] = 'display_data';\n",
              "        await google.colab.output.renderOutput(dataTable, element);\n",
              "        const docLink = document.createElement('div');\n",
              "        docLink.innerHTML = docLinkHtml;\n",
              "        element.appendChild(docLink);\n",
              "      }\n",
              "    </script>\n",
              "  </div>\n",
              "\n",
              "\n",
              "<div id=\"df-f140aded-b76a-465d-8827-8ddddba0fd11\">\n",
              "  <button class=\"colab-df-quickchart\" onclick=\"quickchart('df-f140aded-b76a-465d-8827-8ddddba0fd11')\"\n",
              "            title=\"Suggest charts.\"\n",
              "            style=\"display:none;\">\n",
              "\n",
              "<svg xmlns=\"http://www.w3.org/2000/svg\" height=\"24px\"viewBox=\"0 0 24 24\"\n",
              "     width=\"24px\">\n",
              "    <g>\n",
              "        <path d=\"M19 3H5c-1.1 0-2 .9-2 2v14c0 1.1.9 2 2 2h14c1.1 0 2-.9 2-2V5c0-1.1-.9-2-2-2zM9 17H7v-7h2v7zm4 0h-2V7h2v10zm4 0h-2v-4h2v4z\"/>\n",
              "    </g>\n",
              "</svg>\n",
              "  </button>\n",
              "\n",
              "<style>\n",
              "  .colab-df-quickchart {\n",
              "      --bg-color: #E8F0FE;\n",
              "      --fill-color: #1967D2;\n",
              "      --hover-bg-color: #E2EBFA;\n",
              "      --hover-fill-color: #174EA6;\n",
              "      --disabled-fill-color: #AAA;\n",
              "      --disabled-bg-color: #DDD;\n",
              "  }\n",
              "\n",
              "  [theme=dark] .colab-df-quickchart {\n",
              "      --bg-color: #3B4455;\n",
              "      --fill-color: #D2E3FC;\n",
              "      --hover-bg-color: #434B5C;\n",
              "      --hover-fill-color: #FFFFFF;\n",
              "      --disabled-bg-color: #3B4455;\n",
              "      --disabled-fill-color: #666;\n",
              "  }\n",
              "\n",
              "  .colab-df-quickchart {\n",
              "    background-color: var(--bg-color);\n",
              "    border: none;\n",
              "    border-radius: 50%;\n",
              "    cursor: pointer;\n",
              "    display: none;\n",
              "    fill: var(--fill-color);\n",
              "    height: 32px;\n",
              "    padding: 0;\n",
              "    width: 32px;\n",
              "  }\n",
              "\n",
              "  .colab-df-quickchart:hover {\n",
              "    background-color: var(--hover-bg-color);\n",
              "    box-shadow: 0 1px 2px rgba(60, 64, 67, 0.3), 0 1px 3px 1px rgba(60, 64, 67, 0.15);\n",
              "    fill: var(--button-hover-fill-color);\n",
              "  }\n",
              "\n",
              "  .colab-df-quickchart-complete:disabled,\n",
              "  .colab-df-quickchart-complete:disabled:hover {\n",
              "    background-color: var(--disabled-bg-color);\n",
              "    fill: var(--disabled-fill-color);\n",
              "    box-shadow: none;\n",
              "  }\n",
              "\n",
              "  .colab-df-spinner {\n",
              "    border: 2px solid var(--fill-color);\n",
              "    border-color: transparent;\n",
              "    border-bottom-color: var(--fill-color);\n",
              "    animation:\n",
              "      spin 1s steps(1) infinite;\n",
              "  }\n",
              "\n",
              "  @keyframes spin {\n",
              "    0% {\n",
              "      border-color: transparent;\n",
              "      border-bottom-color: var(--fill-color);\n",
              "      border-left-color: var(--fill-color);\n",
              "    }\n",
              "    20% {\n",
              "      border-color: transparent;\n",
              "      border-left-color: var(--fill-color);\n",
              "      border-top-color: var(--fill-color);\n",
              "    }\n",
              "    30% {\n",
              "      border-color: transparent;\n",
              "      border-left-color: var(--fill-color);\n",
              "      border-top-color: var(--fill-color);\n",
              "      border-right-color: var(--fill-color);\n",
              "    }\n",
              "    40% {\n",
              "      border-color: transparent;\n",
              "      border-right-color: var(--fill-color);\n",
              "      border-top-color: var(--fill-color);\n",
              "    }\n",
              "    60% {\n",
              "      border-color: transparent;\n",
              "      border-right-color: var(--fill-color);\n",
              "    }\n",
              "    80% {\n",
              "      border-color: transparent;\n",
              "      border-right-color: var(--fill-color);\n",
              "      border-bottom-color: var(--fill-color);\n",
              "    }\n",
              "    90% {\n",
              "      border-color: transparent;\n",
              "      border-bottom-color: var(--fill-color);\n",
              "    }\n",
              "  }\n",
              "</style>\n",
              "\n",
              "  <script>\n",
              "    async function quickchart(key) {\n",
              "      const quickchartButtonEl =\n",
              "        document.querySelector('#' + key + ' button');\n",
              "      quickchartButtonEl.disabled = true;  // To prevent multiple clicks.\n",
              "      quickchartButtonEl.classList.add('colab-df-spinner');\n",
              "      try {\n",
              "        const charts = await google.colab.kernel.invokeFunction(\n",
              "            'suggestCharts', [key], {});\n",
              "      } catch (error) {\n",
              "        console.error('Error during call to suggestCharts:', error);\n",
              "      }\n",
              "      quickchartButtonEl.classList.remove('colab-df-spinner');\n",
              "      quickchartButtonEl.classList.add('colab-df-quickchart-complete');\n",
              "    }\n",
              "    (() => {\n",
              "      let quickchartButtonEl =\n",
              "        document.querySelector('#df-f140aded-b76a-465d-8827-8ddddba0fd11 button');\n",
              "      quickchartButtonEl.style.display =\n",
              "        google.colab.kernel.accessAllowed ? 'block' : 'none';\n",
              "    })();\n",
              "  </script>\n",
              "</div>\n",
              "    </div>\n",
              "  </div>\n"
            ],
            "text/plain": [
              "            Weights            Prices  Capacity        Best picks  Best price\n",
              "0  [46 40 42 38 10]  [12 19 19 15  8]        40  [0. 1. 0. 0. 0.]        19.0\n",
              "1  [11 31  4  6  7]  [ 2  8 18 16  3]        64  [1. 1. 1. 1. 1.]        47.0\n",
              "2  [32 49 27 37 24]  [19 16 16  4  1]        87  [1. 0. 1. 0. 1.]        36.0\n",
              "3  [20 35 22 23 16]  [19 17 19  9  1]        21  [1. 0. 0. 0. 0.]        19.0\n",
              "4  [ 7 12 19 13 20]  [10 11 18 15  5]        50  [0. 1. 1. 1. 0.]        44.0\n",
              "5  [27 10 25 25  7]  [13 19  7 16  3]        66  [1. 1. 0. 1. 0.]        48.0\n",
              "6  [21  2 33 45 26]  [ 1 14 10  6 13]        80  [0. 1. 1. 0. 1.]        37.0\n",
              "7  [37 27 39 14 25]  [18  7 15  4 13]        35  [0. 0. 0. 0. 1.]        13.0\n",
              "8  [ 1 48  4 23 39]  [ 9  4 10 16 12]        51  [1. 0. 1. 1. 0.]        35.0\n",
              "9  [ 4  3 22  9 32]  [14  6  3 17  8]        53  [1. 1. 0. 1. 1.]        45.0"
            ]
          },
          "execution_count": 3,
          "metadata": {},
          "output_type": "execute_result"
        }
      ],
      "source": [
        "dataset.head(10)"
      ]
    },
    {
      "cell_type": "markdown",
      "metadata": {
        "id": "1dq9VpZh2r2A"
      },
      "source": [
        "**Étape de pré-traitenemtn**\n",
        "\n",
        "Règle générale, la première étape de tout projet impliquant la lecture et la manipulation de données est le prétraitement et le nettoyage des données.\n",
        "\n",
        "Dans notre ensemble de données, nous nous attendons à ce que les entrées des colonnes « Weights », « Prices » et « Best Picks » se présentent sous la forme de tableaux de nombres réels ou d'entiers, comme ceci : [45, 40, 42, 38, 10]\n",
        "\n",
        "Cependant, lorsque vous lisez les entrées à l'aide de pandas, elles se présentent sous la forme de chaînes (String): \"[45 40 42 38 10]\"\n",
        "\n",
        "Nous devons donc convertir ces chaînes en « tableaux de réels ou d’entiers ». Vous pouvez utiliser la fonction fournie ci-dessous à cet effet :\n"
      ]
    },
    {
      "cell_type": "code",
      "execution_count": null,
      "metadata": {
        "id": "BmUtgrBchaOz"
      },
      "outputs": [],
      "source": [
        "def string_to_list(string):\n",
        "\n",
        "  string_list = string.strip('[]').split()\n",
        "\n",
        "  float_list = [float(element) for element in string_list]\n",
        "\n",
        "  return float_list\n"
      ]
    },
    {
      "cell_type": "markdown",
      "metadata": {
        "id": "CP1nkMb27A4n"
      },
      "source": [
        "De plus, il est possible que certaines lignes de l'ensemble de données contiennent des valeurs vides dans des colonnes spécifiques. Nous voulons également éliminer ces lignes car elles ne fournissent aucune information utile. Nous utilisons la fonction dropna() pour ce faire :"
      ]
    },
    {
      "cell_type": "code",
      "execution_count": null,
      "metadata": {
        "colab": {
          "base_uri": "https://localhost:8080/"
        },
        "id": "LT_iYgxhhaO0",
        "outputId": "299dc138-a532-450d-8769-1c7a1cc890da"
      },
      "outputs": [
        {
          "name": "stderr",
          "output_type": "stream",
          "text": [
            "<ipython-input-5-833fb421dc49>:5: SettingWithCopyWarning: \n",
            "A value is trying to be set on a copy of a slice from a DataFrame.\n",
            "Try using .loc[row_indexer,col_indexer] = value instead\n",
            "\n",
            "See the caveats in the documentation: https://pandas.pydata.org/pandas-docs/stable/user_guide/indexing.html#returning-a-view-versus-a-copy\n",
            "  dataset.Weights = dataset.Weights.apply(lambda x : string_to_list(x))\n",
            "<ipython-input-5-833fb421dc49>:6: SettingWithCopyWarning: \n",
            "A value is trying to be set on a copy of a slice from a DataFrame.\n",
            "Try using .loc[row_indexer,col_indexer] = value instead\n",
            "\n",
            "See the caveats in the documentation: https://pandas.pydata.org/pandas-docs/stable/user_guide/indexing.html#returning-a-view-versus-a-copy\n",
            "  dataset.Prices = dataset.Prices.apply(lambda x : string_to_list(x))\n",
            "<ipython-input-5-833fb421dc49>:7: SettingWithCopyWarning: \n",
            "A value is trying to be set on a copy of a slice from a DataFrame.\n",
            "Try using .loc[row_indexer,col_indexer] = value instead\n",
            "\n",
            "See the caveats in the documentation: https://pandas.pydata.org/pandas-docs/stable/user_guide/indexing.html#returning-a-view-versus-a-copy\n",
            "  dataset['Best picks'] = dataset['Best picks'].apply(lambda x : string_to_list(x))\n"
          ]
        }
      ],
      "source": [
        "#Ignore the warning messages.\n",
        "\n",
        "dataset = dataset.dropna()\n",
        "\n",
        "dataset.Weights = dataset.Weights.apply(lambda x : string_to_list(x))\n",
        "dataset.Prices = dataset.Prices.apply(lambda x : string_to_list(x))\n",
        "dataset['Best picks'] = dataset['Best picks'].apply(lambda x : string_to_list(x))"
      ]
    },
    {
      "cell_type": "markdown",
      "metadata": {
        "id": "61go4NeA7gZU"
      },
      "source": [
        "\n",
        "Il est maintenant temps de mettre en œuvre les algorithmes de recherche. Pour chaque algorithme, un modèle vous est fourni. Vous pouvez modifier ce modèle si vous voulez, mais regardez d'abord tous les paramètres utilisés car ils sont tous importants. Vous pouvez également définir autant de fonctions auxiliaires que vous le souhaitez."
      ]
    },
    {
      "cell_type": "markdown",
      "metadata": {
        "id": "0ER3-7di7ufy"
      },
      "source": [
        "**4. Generate and Test**\n",
        "\n",
        "L'algorithme de génération et de test génère toutes les solutions possibles puis les évalue pour trouver la meilleure."
      ]
    },
    {
      "cell_type": "code",
      "execution_count": null,
      "metadata": {
        "id": "FqN5dVe7haO0"
      },
      "outputs": [],
      "source": [
        "def gen_and_test(data):\n",
        "    best_solution = None\n",
        "    best_solution_price = 0\n",
        "\n",
        "    # Generate all possible combinations of items\n",
        "    AllCombinations = list(itertools.product(range(2), repeat=len(data.Weights)))\n",
        "    # print(AllCombinations)\n",
        "    #Calculate Total Weight and Total value\n",
        "    for combination in AllCombinations :\n",
        "        total_weight = sum([a * b for a, b in zip(data.Weights , combination)])\n",
        "        total_price = sum([a * b for a, b in zip(data.Prices , combination)])\n",
        "\n",
        "        # Test if combination fits within capacity\n",
        "        if total_weight <= data.Capacity:\n",
        "          if total_price > best_solution_price:\n",
        "              best_solution = combination\n",
        "              best_solution_price = total_price\n",
        "    return best_solution_price, best_solution\n",
        "\n"
      ]
    },
    {
      "cell_type": "code",
      "execution_count": null,
      "metadata": {
        "id": "xQyI_WRShaO0"
      },
      "outputs": [],
      "source": [
        "solutions = []\n",
        "for _, row in dataset.iterrows():\n",
        "    target = row['Best price']\n",
        "    solution, indexes = gen_and_test(row)\n",
        "    solutions.append(1 if target == solution else 0)\n"
      ]
    },
    {
      "cell_type": "code",
      "execution_count": null,
      "metadata": {
        "colab": {
          "base_uri": "https://localhost:8080/"
        },
        "id": "yodeAYV3haO0",
        "outputId": "fbe51ddc-5649-45a2-a44c-a89e65f5c57e"
      },
      "outputs": [
        {
          "name": "stdout",
          "output_type": "stream",
          "text": [
            "Accuracy of best prices found is 1.0\n"
          ]
        }
      ],
      "source": [
        "# Accuracy\n",
        "print('Accuracy of best prices found is', np.mean(solutions))"
      ]
    },
    {
      "cell_type": "markdown",
      "metadata": {
        "id": "sgYGIJMd-atd"
      },
      "source": [
        "**Votre analyse:**\n",
        "\n",
        "La précision obtenue est de 1, ce qui signifie que les résultats produits par le code correspondent toujours à la solution optimale attendue. L'exécution du code ne dépasse pas 9 secondes, ce qui est très rapide pour un algorithme de génération et de test.\n"
      ]
    },
    {
      "cell_type": "markdown",
      "metadata": {
        "id": "5rQYdUQx-dGi"
      },
      "source": [
        "------------------------------------------------------------------------------------------------"
      ]
    },
    {
      "cell_type": "markdown",
      "metadata": {
        "id": "z8_ipXOGhaO1"
      },
      "source": [
        "**5. Recherche gloutonne (greedy search)**\n",
        "\n",
        "Greedy algorithms work by making locally optimal decisions hoping for a globally optimal solution. It's not always obvious what parameter to use to find the best choice every time, but for this one we decided to use the price/weight as the optimal decision."
      ]
    },
    {
      "cell_type": "code",
      "execution_count": null,
      "metadata": {
        "id": "bAfwGLDkhaO2"
      },
      "outputs": [],
      "source": [
        "def greedy(data):\n",
        "\n",
        "  best_solution_price = 0\n",
        "\n",
        "  solList =[0] * len(data.Weights)\n",
        "  #create an array containg all the price/weight ratios\n",
        "  ratio = []\n",
        "  for i in range(len(data.Prices)):\n",
        "    ratio.append(data.Prices[i]/data.Weights[i])\n",
        "  best = 0\n",
        "  index = []\n",
        "  #create an array containing all the index number of the largest ratio first and the smallest one last\n",
        "  for i in range(len(ratio)):\n",
        "        index.append(ratio.index(max(ratio)))\n",
        "        ratio[ratio.index(max(ratio))] = 0\n",
        "\n",
        "  #since we now know the index of the best price/weight items, we add them in descending order, always checking that we don't go over capacity\n",
        "  for i in index:\n",
        "    if(data.Capacity - data.Weights[i] > 0):\n",
        "      best_solution_price += data.Prices[i]\n",
        "      data.Capacity -= data.Weights[i]\n",
        "      solList[i] =1\n",
        "\n",
        "  best_solution = solList\n",
        "\n",
        "\n",
        "  return best_solution_price, best_solution"
      ]
    },
    {
      "cell_type": "code",
      "execution_count": null,
      "metadata": {
        "id": "QeS54aqAhwhU"
      },
      "outputs": [],
      "source": [
        "solutions_greedy = []\n",
        "for _, row in dataset.iterrows():\n",
        "    target = row['Best price']\n",
        "    solution, indexes = greedy(row)\n",
        "    solutions_greedy.append(1 if target == solution else 0)\n"
      ]
    },
    {
      "cell_type": "code",
      "execution_count": null,
      "metadata": {
        "colab": {
          "base_uri": "https://localhost:8080/"
        },
        "id": "xWqCDMs-h0SX",
        "outputId": "040e3125-40ce-4691-8c2e-8d7869d75149"
      },
      "outputs": [
        {
          "name": "stdout",
          "output_type": "stream",
          "text": [
            "Greedy Accuracy is 0.7808482639943314\n"
          ]
        }
      ],
      "source": [
        "print(\"Greedy Accuracy is\", np.mean(solutions_greedy))"
      ]
    },
    {
      "cell_type": "markdown",
      "metadata": {
        "id": "0DKep6e5-nuz"
      },
      "source": [
        "**Votre analyse:**"
      ]
    },
    {
      "cell_type": "markdown",
      "metadata": {
        "id": "WWx3ajNrMLlS"
      },
      "source": [
        "For the greedy algorithm price/weight was used to calculate the bet choice at every step. The greedy algorithm got a lower accuracy score than generate and test, but it did run more than twice as quickly and it scales better as the problems increase in size."
      ]
    },
    {
      "cell_type": "markdown",
      "metadata": {
        "id": "XGBWQqlK-lra"
      },
      "source": [
        "------------------------------------------------------------------------------------------------"
      ]
    },
    {
      "cell_type": "markdown",
      "metadata": {
        "id": "PtDW2ja3R93S"
      },
      "source": [
        "**6. Recuit Simulé (Simulated Annealing)**\n",
        "\n",
        "Simulated annealing works by making random changes to our data and hopping that the locally bad decisions help us reach an overall better solution further down the line. We decided to use the greedy algorithm as a base before randomly changing bits and using the temperature and the difference in prices to see if the changes are worth exploring.\n"
      ]
    },
    {
      "cell_type": "code",
      "execution_count": null,
      "metadata": {
        "id": "7rFhuXedSF_3"
      },
      "outputs": [],
      "source": [
        "import random\n",
        "import math\n",
        "\n",
        "\n",
        "def simulated_annealing(data, N, initial_temperature, cooling_rate):\n",
        "  #We use the greedy algorith that was made in problem 5 to generate our base case\n",
        "  currPrice, currSolution = greedy(data)\n",
        "\n",
        "  best_solution = currSolution.copy()\n",
        "  best_solution_price = currPrice\n",
        "  temperature = initial_temperature\n",
        "  currWeight = 0\n",
        "  maxWeight = data.Capacity\n",
        "  neighbourPrice = 0\n",
        "  for a in range(N):\n",
        "    #This rolls back unwanted changes in case the code decided it wanted to revert the change back in line 45\n",
        "    neighbourSolution = currSolution.copy()\n",
        "    currWeight = 0\n",
        "    neighbourPrice = 0\n",
        "\n",
        "    #generate a random index number then flip that bit\n",
        "    rand = random.randint(0, len(currSolution)-1)\n",
        "    neighbourSolution[rand] = 1 - neighbourSolution[rand]\n",
        "\n",
        "    #calculate the new weight\n",
        "    for i in range(len(neighbourSolution)):\n",
        "      if(neighbourSolution[i]==1):\n",
        "        currWeight += data.Weights[i]\n",
        "\n",
        "    #if the weight is pass the capacity, set the score to zero, if not calculate the new score\n",
        "    if(currWeight > maxWeight):\n",
        "      neighbourPrice = 0\n",
        "    else:\n",
        "      for i in range(len(currSolution)):\n",
        "        if(neighbourSolution[i] ==1):\n",
        "          neighbourPrice += data.Prices[i]\n",
        "\n",
        "    #If by fliping that bit we get a better price, then set the new best price to that, and carry the changes to the next iteration\n",
        "    if neighbourPrice > best_solution_price:\n",
        "      best_solution_price = neighbourPrice\n",
        "      best_solution = neighbourSolution.copy()\n",
        "      currPrice = neighbourPrice\n",
        "      currSolution = neighbourSolution.copy()\n",
        "    else:\n",
        "      #else, get a % chance based off the current heat and price fluctuation to keep the changes to see if they help further down\n",
        "      probability = math.exp((neighbourPrice - currPrice)/temperature)\n",
        "      if(random.random() < probability):\n",
        "        currPrice = neighbourPrice\n",
        "        currSolution = neighbourSolution.copy()\n",
        "\n",
        "    temperature *= cooling_rate\n",
        "\n",
        "\n",
        "\n",
        "  return best_solution_price, best_solution\n"
      ]
    },
    {
      "cell_type": "code",
      "execution_count": null,
      "metadata": {
        "id": "mAWQLNsESNIZ"
      },
      "outputs": [],
      "source": [
        "solutions_sa = []\n",
        "for _, row in dataset.iterrows():\n",
        "    target = row['Best price']\n",
        "    solution, indexes = simulated_annealing(row, N = 10, initial_temperature=1, cooling_rate=0.95)\n",
        "    solutions_sa.append(1 if target == solution else 0)\n"
      ]
    },
    {
      "cell_type": "code",
      "execution_count": null,
      "metadata": {
        "colab": {
          "background_save": true
        },
        "id": "ydPu6uF5CUZN",
        "outputId": "7c312e12-daa0-4093-8362-07bbc7b2bd27"
      },
      "outputs": [
        {
          "name": "stdout",
          "output_type": "stream",
          "text": [
            "Simulated Annealing Accuracy is 0.7818605121975909\n"
          ]
        }
      ],
      "source": [
        "print(\"Simulated Annealing Accuracy is\", np.mean(solutions_sa))"
      ]
    },
    {
      "cell_type": "code",
      "execution_count": null,
      "metadata": {
        "id": "4pQySYpnYLRR"
      },
      "outputs": [],
      "source": [
        "solutions_sa = []\n",
        "for _, row in dataset.iterrows():\n",
        "    target = row['Best price']\n",
        "    solution, indexes = simulated_annealing(row, N = 20, initial_temperature=1, cooling_rate=0.99)\n",
        "    solutions_sa.append(1 if target == solution else 0)"
      ]
    },
    {
      "cell_type": "code",
      "execution_count": null,
      "metadata": {
        "id": "M2SCNdxiCUua"
      },
      "outputs": [],
      "source": [
        "print(\"Simulated Annealing Accuracy is\", np.mean(solutions_sa))"
      ]
    },
    {
      "cell_type": "code",
      "execution_count": null,
      "metadata": {
        "id": "9lELamtIlFcN"
      },
      "outputs": [],
      "source": [
        "solutions_sa = []\n",
        "for _, row in dataset.iterrows():\n",
        "    target = row['Best price']\n",
        "    solution, indexes = simulated_annealing(row, N = 10, initial_temperature=1, cooling_rate=0.8)\n",
        "    solutions_sa.append(1 if target == solution else 0)"
      ]
    },
    {
      "cell_type": "code",
      "execution_count": null,
      "metadata": {
        "id": "jUdWEABkhkih"
      },
      "outputs": [],
      "source": [
        "print(\"Simulated Annealing Accuracy is\", np.mean(solutions_sa))"
      ]
    },
    {
      "cell_type": "markdown",
      "metadata": {
        "id": "PvvpYOOr-qqr"
      },
      "source": [
        "**Votre analyse:**"
      ]
    },
    {
      "cell_type": "markdown",
      "metadata": {
        "id": "McxnxlxacYyp"
      },
      "source": [
        "*The* simulated annealing is slightly better than the greedy algorithm, which is used as a base for this one, but the accuracy is only about 0.02 better. As N and the cooling rate get bigger, the accuracy does seem to slightly improve."
      ]
    },
    {
      "cell_type": "markdown",
      "metadata": {
        "id": "n0QXt7Ys-rCc"
      },
      "source": [
        "------------------------------------------------------------------------------------------------"
      ]
    },
    {
      "cell_type": "markdown",
      "metadata": {
        "id": "RHYjBUvVhtGV"
      },
      "source": [
        "**7. Algorithme génétique**\n",
        "\n",
        "L'algorithme génétique est une méthode d'optimisation inspirée par la sélection naturelle. L'application de cet algorithme au problème du sac à dos conciste a crée une population de solutions potentielles aléatoire, les évalue en fonction de leur aptitude à respecter les contraintes de poids et maximiser le prix totale, puis les combine et modifie pour générer de nouvelles solutions. Ce processus itératif se poursuit jusqu'à ce le nombre maximum de générations soit atteint."
      ]
    },
    {
      "cell_type": "code",
      "execution_count": null,
      "metadata": {
        "id": "5kGKKUN8iP30"
      },
      "outputs": [],
      "source": [
        "import random\n",
        "\n",
        "def calculate_fitness(ind, prices, weights, capacity): #determines how fit an individual is (returns a fitness score)\n",
        "  total_price = sum([a * b for a, b in zip(prices , ind)])\n",
        "  total_weight = sum([a * b for a, b in zip(weights , ind)])\n",
        "\n",
        "  if total_weight > capacity :\n",
        "    fitness = 0\n",
        "  else:\n",
        "    fitness = total_price\n",
        "  return fitness\n",
        "\n",
        "def crossover(parent1, parent2, cross_rate):\n",
        "  if random.random() < cross_rate: #check if crossover will happen depending on crossover rate\n",
        "    crossover_point = random.randint(1, len(parent1) - 1)\n",
        "    child1 = parent1[:crossover_point]+ parent2[crossover_point:]\n",
        "    child2 = parent2[:crossover_point]+ parent1[crossover_point:]\n",
        "\n",
        "  else:\n",
        "    child1 = parent1\n",
        "    child2 = parent2\n",
        "  return child1, child2\n",
        "\n",
        "def mutation(child, mut_rate):\n",
        "  if random.random() < mut_rate: #check if mutation will happen depending on mutation rate\n",
        "    #Generate random mutation point\n",
        "    mutation_point = random.randint(1, len(child) - 1)\n",
        "\n",
        "    #Flip values at the mutation point\n",
        "    child[mutation_point] = 1 - child[mutation_point]\n",
        "  return child\n",
        "\n",
        "def genetic_algorithm(data, population_size, num_generations, mut_rate, cross_rate, tournament_size):\n",
        "\n",
        "  #Generate random population of size population_size\n",
        "  population =  [[random.randint(0, 1) for _ in range(len(data.Weights))]for _ in range(population_size)]\n",
        "\n",
        "  for i in range(num_generations):\n",
        "    ## Tournament 1\n",
        "    #A total of tournament_size individuals are randomly selected\n",
        "    tournament =  random.sample(population, tournament_size)\n",
        "\n",
        "    winner1 = tournament[0]\n",
        "    for ind in tournament :\n",
        "      if calculate_fitness(ind,data.Prices,data.Weights,data.Capacity) >= calculate_fitness(winner1,data.Prices,data.Weights,data.Capacity):\n",
        "        winner1 = ind\n",
        "\n",
        "    ## Tournament 2\n",
        "    #A total of tournament_size individuals are randomly selected\n",
        "    tournament =  random.sample(population, tournament_size)\n",
        "\n",
        "    winner2 = tournament[0]\n",
        "    for ind in tournament :\n",
        "      if calculate_fitness(ind,data.Prices,data.Weights,data.Capacity) >= calculate_fitness(winner2,data.Prices,data.Weights,data.Capacity):\n",
        "        winner2 = ind\n",
        "\n",
        "    #Create new children and add it to the population\n",
        "    child1 , child2 = crossover(winner1,winner2,cross_rate)\n",
        "    child1 = mutation(child1,mut_rate)\n",
        "    child2 = mutation(child2,mut_rate)\n",
        "    population.append(child1)\n",
        "    population.append(child2)\n",
        "\n",
        "\n",
        "\n",
        "  best_solution = max(population ,key=lambda x: calculate_fitness(x,data.Prices,data.Weights,data.Capacity))\n",
        "  best_solution_price = sum([a * b for a, b in zip(data.Prices , best_solution)])\n",
        "\n",
        "\n",
        "  return best_solution_price, best_solution"
      ]
    },
    {
      "cell_type": "code",
      "execution_count": null,
      "metadata": {
        "id": "5b4hBtUijZzg"
      },
      "outputs": [],
      "source": [
        "solutions_ga = []\n",
        "for _, row in dataset.iterrows():\n",
        "    target = row['Best price']\n",
        "    solution, indexes = genetic_algorithm(row, population_size = 50, num_generations = 50, mut_rate = 0.1, cross_rate = 0.7, tournament_size = 5)\n",
        "    solutions_ga.append(1 if target == solution else 0)\n"
      ]
    },
    {
      "cell_type": "code",
      "execution_count": null,
      "metadata": {
        "colab": {
          "base_uri": "https://localhost:8080/"
        },
        "id": "hJ3ceIHSs-W-",
        "outputId": "749710aa-03f8-42f0-d59f-d46ba6ea25e5"
      },
      "outputs": [
        {
          "name": "stdout",
          "output_type": "stream",
          "text": [
            "Genetic Algorithm Accuracy is 0.9390626581637818\n"
          ]
        }
      ],
      "source": [
        "print(\"Genetic Algorithm Accuracy is\", np.mean(solutions_ga))"
      ]
    },
    {
      "cell_type": "code",
      "execution_count": null,
      "metadata": {
        "colab": {
          "background_save": true
        },
        "id": "1m3h-L0-Mtbn"
      },
      "outputs": [],
      "source": [
        "solutions_ga = []\n",
        "for _, row in dataset.iterrows():\n",
        "    target = row['Best price']\n",
        "    solution, indexes = genetic_algorithm(row, population_size = 50, num_generations = 50, mut_rate = 0.3, cross_rate = 0.9, tournament_size = 5)\n",
        "    solutions_ga.append(1 if target == solution else 0)"
      ]
    },
    {
      "cell_type": "code",
      "execution_count": null,
      "metadata": {
        "colab": {
          "background_save": true
        },
        "id": "OQT9kIXMMwzS",
        "outputId": "25cd3206-b231-4d9d-cb36-139fadfa4ecb"
      },
      "outputs": [
        {
          "name": "stdout",
          "output_type": "stream",
          "text": [
            "Genetic Algorithm Accuracy is 0.9686203056989574\n"
          ]
        }
      ],
      "source": [
        "print(\"Genetic Algorithm Accuracy is\", np.mean(solutions_ga))"
      ]
    },
    {
      "cell_type": "code",
      "execution_count": null,
      "metadata": {
        "colab": {
          "background_save": true
        },
        "id": "5apYsXS7M4XD"
      },
      "outputs": [],
      "source": [
        "solutions_ga = []\n",
        "for _, row in dataset.iterrows():\n",
        "    target = row['Best price']\n",
        "    solution, indexes = genetic_algorithm(row, population_size = 50, num_generations = 50, mut_rate = 0.05, cross_rate = 0.5, tournament_size = 5)\n",
        "    solutions_ga.append(1 if target == solution else 0)"
      ]
    },
    {
      "cell_type": "code",
      "execution_count": null,
      "metadata": {
        "colab": {
          "background_save": true
        },
        "id": "5NENmVBFM48H",
        "outputId": "e91b2b1c-fd27-4774-d444-ddf2a763c813"
      },
      "outputs": [
        {
          "name": "stdout",
          "output_type": "stream",
          "text": [
            "Genetic Algorithm Accuracy is 0.9142625771839255\n"
          ]
        }
      ],
      "source": [
        "print(\"Genetic Algorithm Accuracy is\", np.mean(solutions_ga))"
      ]
    },
    {
      "cell_type": "markdown",
      "metadata": {
        "id": "ekb0LOgF-xUN"
      },
      "source": [
        "**Votre analyse:**\n",
        "\n",
        "* La précision obtenue pour l'algorithme génétique est de 94 %. Cela indique que les solutions obtenues sont correctes dans 94 % des cas. Cependant, on remarque que le temps d'exécution s'élève à 4 minutes, ce qui est considérablement long pour un problème simple de Sac à dos.\n",
        "\n",
        "\n",
        "*   Lorsque l'on modifie les taux de croisement et de mutation, on remarque que la précision est plus élevée pour des taux plus grands que ceux par défaut, tandis que la précision est plus basse pour des taux plus petits que ceux par défaut.\n",
        "\n"
      ]
    },
    {
      "cell_type": "markdown",
      "metadata": {
        "id": "nkrFSglleSES"
      },
      "source": [
        "\n",
        "----------------"
      ]
    },
    {
      "cell_type": "markdown",
      "metadata": {
        "id": "NdO_H-4t-6mg"
      },
      "source": [
        "**8. Étude comparative**"
      ]
    },
    {
      "cell_type": "markdown",
      "metadata": {
        "id": "vuV1UlUEHsyA"
      },
      "source": [
        "| Algorithme           | Paramètres | Temps d'execution | Précision  |\n",
        "|----------------------|------------|-------------------|------------|\n",
        "| Recherche gloutonne  | __         |       3s            |   0.7808482639943314         |\n",
        "| Recruit Simulé       |N = 10, cooling_rate=0.95            |     6s              |   0.7822654114788946         |\n",
        "| Recruit Simulé       |N = 20, cooling_rate=0.99            |      9s             | 0.7825690859398725           |\n",
        "| Recruit Simulé       |N = 10, cooling_rate=0.80         |   6s                |   0.7819617370179168         |   \n",
        "| Algorithme génétique | mut_rate = 0.1, cross_rate = 0.7|4m                   |  0.9388602085231299          |\n",
        "| Algorithme génétique | mut_rate = 0.3, cross_rate = 0.9| 4m                  |  0.9696325539022168          |\n",
        "| Algorithme génétique | mut_rate = 0.05, cross_rate = 0.5|   4m                |       0.9120356311367548     |\n",
        "                "
      ]
    },
    {
      "cell_type": "markdown",
      "metadata": {
        "id": "xvqSk6VzxfdX"
      },
      "source": [
        "* Parmi tous les algorithmes testés, l'algorithme glouton était le plus rapide, mais aussi le moins précis, bien que la différence ne soit pas très importante.\n",
        "\n",
        "* L'algorithme du recuit simulé était un peu plus précis que l'algorithme glouton mais avec un temps d'exécution double.\n",
        "\n",
        "* l'algorithme génétique étaient de loin le plus lents parmi tous les algorithmes, mais aussi le plus précis.\n",
        "\n",
        "* En ce qui concerne les paramètres :\n",
        "  * Pour l'algorithme du recuit simulé, on remarque que l'exactitude s'améliorait à mesure que le nombre de cycles et le taux de refroidissement augmentaient. Cependant, le nombre de cycles augmentait également considérablement le temps d'exécution.\n",
        "  * Pour l'algorithme génétique,  on remarque que l'exactitude s'améliorait à mesure que les taux augmentaient. Cependant, les paramètres ne semblent pas avoir d'effet sur le temps d'exécution.\n",
        "\n"
      ]
    },
    {
      "cell_type": "markdown",
      "metadata": {
        "id": "4Ypp7TpkAIUe"
      },
      "source": [
        "--------------------------------------------------------------------------\n"
      ]
    },
    {
      "cell_type": "markdown",
      "metadata": {
        "id": "8Ikmq-si_23Y"
      },
      "source": [
        "**9. Conclusion**\n",
        "\n",
        "Ce devoir nous a permis de développer et de comparer quatre algorithmes pour résoudre le problème du sac à dos. Nous avons observé que le temps d'exécution et la précision varient en fonction de l'algorithme choisi et des paramètres utilisés. Une conclusion intéressante est que, contrairement à la réputation de l'algorithme de génération et de test en tant qu'algorithme lent, il s'est avéré être le plus performant en termes de temps d'exécution et de précision ensembles.\n",
        "\n",
        "Cela prouve que la permance d'un algorithme depends du problem à resoudre. Il est donc important de prendre en compte les caractéristiques des données ainsi qu'effectuer plusieurs expérimentations et tests pour déterminer quelle approche fonctionne le mieux dans un contexte donné."
      ]
    },
    {
      "cell_type": "markdown",
      "metadata": {
        "id": "41s8gvCNABDy"
      },
      "source": [
        "--------------------------------------------------------------------------\n"
      ]
    },
    {
      "cell_type": "markdown",
      "metadata": {
        "id": "PtbOgI1q_9a0"
      },
      "source": [
        "**10. Références**\n",
        "\n",
        "[1] https://www.geeksforgeeks.org/simulated-annealing/\n",
        "\n",
        "[2] https://www.geeksforgeeks.org/genetic-algorithms/\n",
        "\n",
        "[3] https://docs.python.org/3/library/itertools.html\n",
        "\n"
      ]
    },
    {
      "cell_type": "markdown",
      "metadata": {
        "id": "zF9cuDJqF75q"
      },
      "source": [
        "**Hint:**\n",
        "\n",
        "Pour partager un lien vers votre notebook Colab, cliquez sur \"share\" en haut à droite. Ensuite, sous *General access* , remplacez *Restricted* par « Anyone with the link »."
      ]
    }
  ],
  "metadata": {
    "colab": {
      "provenance": []
    },
    "kernelspec": {
      "display_name": "Python 3 (ipykernel)",
      "language": "python",
      "name": "python3"
    },
    "language_info": {
      "codemirror_mode": {
        "name": "ipython",
        "version": 3
      },
      "file_extension": ".py",
      "mimetype": "text/x-python",
      "name": "python",
      "nbconvert_exporter": "python",
      "pygments_lexer": "ipython3",
      "version": "3.9.12"
    }
  },
  "nbformat": 4,
  "nbformat_minor": 0
}